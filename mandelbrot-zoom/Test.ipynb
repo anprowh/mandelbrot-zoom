{
 "cells": [
  {
   "cell_type": "code",
   "execution_count": 8,
   "id": "bf29e6c1",
   "metadata": {},
   "outputs": [],
   "source": [
    "from PIL import Image\n",
    "import ipywidgets as widgets\n",
    "import numpy as np\n",
    "import cupy as cp\n",
    "from io import BytesIO\n",
    "import matplotlib.pyplot as plt\n",
    "from time import sleep\n",
    "from IPython.display import display, update_display, clear_output\n",
    "import pandas as pd\n",
    "%matplotlib inline"
   ]
  },
  {
   "cell_type": "code",
   "execution_count": 2,
   "id": "7a5ca3d5",
   "metadata": {},
   "outputs": [],
   "source": [
    "def draw_space(space: np.ndarray, did=None):\n",
    "    img = Image.fromarray(np.absolute(space).astype(np.uint8))\n",
    "    if did is None:\n",
    "        did = display(img, display_id=True).display_id\n",
    "        return did\n",
    "    update_display(img, display_id=did)\n",
    "    return did"
   ]
  },
  {
   "cell_type": "code",
   "execution_count": 15,
   "id": "d0b5a177",
   "metadata": {},
   "outputs": [
    {
     "data": {
      "text/plain": [
       "[[2, 2], [2, 2], [2, 2]]"
      ]
     },
     "execution_count": 15,
     "metadata": {},
     "output_type": "execute_result"
    }
   ],
   "source": [
    "[[2]*2]*3"
   ]
  },
  {
   "cell_type": "code",
   "execution_count": 3,
   "id": "efd1f962",
   "metadata": {},
   "outputs": [],
   "source": [
    "def draw_escape(escape: np.ndarray, did=None):\n",
    "    img = Image.fromarray(cp.asnumpy(escape))\n",
    "    f = BytesIO()\n",
    "    img.save(f, 'jpeg')\n",
    "    if did is None:\n",
    "        img = widgets.Image(value=f.getvalue(), format='jpg')\n",
    "        display(img)\n",
    "        return img\n",
    "    else:\n",
    "        did.value = f.getvalue()\n",
    "        return did"
   ]
  },
  {
   "cell_type": "code",
   "execution_count": null,
   "id": "d7b93a10",
   "metadata": {},
   "outputs": [],
   "source": []
  },
  {
   "cell_type": "code",
   "execution_count": 7,
   "id": "54074977",
   "metadata": {
    "scrolled": false
   },
   "outputs": [
    {
     "data": {
      "application/vnd.jupyter.widget-view+json": {
       "model_id": "a288eb69ed3648cebd787e595a543fe4",
       "version_major": 2,
       "version_minor": 0
      },
      "text/plain": [
       "Image(value=b'\\xff\\xd8\\xff\\xe0\\x00\\x10JFIF\\x00\\x01\\x01\\x00\\x00\\x01\\x00\\x01\\x00\\x00\\xff\\xdb\\x00C\\x00\\x08\\x06\\x0…"
      ]
     },
     "metadata": {},
     "output_type": "display_data"
    },
    {
     "data": {
      "text/plain": [
       "''"
      ]
     },
     "execution_count": 7,
     "metadata": {},
     "output_type": "execute_result"
    }
   ],
   "source": [
    "def draw_mandelbrot(x_min,x_max,y_min,y_max, x_size=500, did=None):\n",
    "    y_size = int(x_size * (y_max-y_min) / (x_max-x_min))\n",
    "    rangx = np.linspace(x_min, x_max, x_size)\n",
    "    rangy = np.linspace(y_min, y_max, y_size)\n",
    "    space = rangy[:,None]*1j + rangx\n",
    "    \n",
    "    space = cp.array(space)\n",
    "    space1 = space\n",
    "    escape_space = cp.zeros_like(space, np.uint8)\n",
    "    first = -1\n",
    "    for i in range(500):\n",
    "        if escape_space.sum()!=0 and first==-1:\n",
    "            first = i\n",
    "            escape_space[(escape_space==0) & (np.imag(space1)**2 + np.real(space1)**2 > 4)] = 1\n",
    "        escape_space[(escape_space==0) & (np.imag(space1)**2 + np.real(space1)**2 > 4)] = min(255, i-first)\n",
    "        \n",
    "        space1 = space1 * space1 + space\n",
    "    #     did = draw_space(space1, did)\n",
    "        did = draw_escape(escape_space, did)\n",
    "    return did\n",
    "\n",
    "# xmin = 0\n",
    "# xmax = 0.0000001\n",
    "# ymin = 0.6410033\n",
    "# ymax = 0.6410034\n",
    "xmin = 0\n",
    "xmax = 0.00000001\n",
    "ymin = 0.6410033\n",
    "ymax = 0.64100331\n",
    "draw_mandelbrot(xmin,xmax,ymin,ymax, 800)\n",
    "''"
   ]
  },
  {
   "cell_type": "code",
   "execution_count": 5,
   "id": "bd6d48f0",
   "metadata": {},
   "outputs": [],
   "source": [
    "did = None"
   ]
  },
  {
   "cell_type": "code",
   "execution_count": 6,
   "id": "e59bd2b2",
   "metadata": {
    "scrolled": false
   },
   "outputs": [
    {
     "data": {
      "application/vnd.jupyter.widget-view+json": {
       "model_id": "b26faccc68c14b5b939e46b040df1006",
       "version_major": 2,
       "version_minor": 0
      },
      "text/plain": [
       "VBox(children=(FloatSlider(value=0.0, description='X min:', max=1.5, min=-2.5), FloatSlider(value=1.5, descrip…"
      ]
     },
     "metadata": {},
     "output_type": "display_data"
    },
    {
     "data": {
      "application/vnd.jupyter.widget-view+json": {
       "model_id": "864fde6fbcde4a6488db83f252bc9ede",
       "version_major": 2,
       "version_minor": 0
      },
      "text/plain": [
       "Image(value=b'\\xff\\xd8\\xff\\xe0\\x00\\x10JFIF\\x00\\x01\\x01\\x00\\x00\\x01\\x00\\x01\\x00\\x00\\xff\\xdb\\x00C\\x00\\x08\\x06\\x0…"
      ]
     },
     "metadata": {},
     "output_type": "display_data"
    }
   ],
   "source": [
    "x_min_slider = widgets.FloatSlider(value=0, min=-2.5, max=1.5, step=0.1, description='X min:')\n",
    "x_max_slider = widgets.FloatSlider(value=5, min=-2.5, max=1.5, step=0.1, description='X max:')\n",
    "y_min_slider = widgets.FloatSlider(value=0, min=-1.5, max=1.5, step=0.1, description='Y min:')\n",
    "y_max_slider = widgets.FloatSlider(value=5, min=-1.5, max=1.5, step=0.1, description='Y max:')\n",
    "\n",
    "def on_change(change):\n",
    "    global did\n",
    "    did = draw_mandelbrot(x_min_slider.value, x_max_slider.value, y_min_slider.value, y_max_slider.value, did=did)\n",
    "\n",
    "x_min_slider.observe(on_change)\n",
    "x_max_slider.observe(on_change)\n",
    "y_min_slider.observe(on_change)\n",
    "y_max_slider.observe(on_change)\n",
    "\n",
    "display(widgets.VBox([x_min_slider, x_max_slider, y_min_slider, y_max_slider]))\n"
   ]
  },
  {
   "cell_type": "code",
   "execution_count": null,
   "id": "89230f12",
   "metadata": {},
   "outputs": [],
   "source": []
  }
 ],
 "metadata": {
  "kernelspec": {
   "display_name": "Python 3 (ipykernel)",
   "language": "python",
   "name": "python3"
  },
  "language_info": {
   "codemirror_mode": {
    "name": "ipython",
    "version": 3
   },
   "file_extension": ".py",
   "mimetype": "text/x-python",
   "name": "python",
   "nbconvert_exporter": "python",
   "pygments_lexer": "ipython3",
   "version": "3.10.10"
  }
 },
 "nbformat": 4,
 "nbformat_minor": 5
}
